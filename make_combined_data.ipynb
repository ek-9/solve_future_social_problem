{
 "cells": [
  {
   "cell_type": "code",
   "execution_count": null,
   "id": "initial_id",
   "metadata": {
    "collapsed": true
   },
   "outputs": [],
   "source": []
  },
  {
   "cell_type": "code",
   "outputs": [
    {
     "name": "stdout",
     "output_type": "stream",
     "text": [
      "        진료년도  상별구분  시도  시군구 성별     연령구분   환자수  입내원일수     요양급여비용\n",
      "0       2018  ADHD  서울  강남구  남     0~9세   437   3330  188836790\n",
      "1       2018  ADHD  서울  강남구  남   10~19세  1111   8869  563498480\n",
      "2       2018  ADHD  서울  강남구  남   20~29세   456   3485  213248290\n",
      "3       2018  ADHD  서울  강남구  남   30~39세   174   1357   72761750\n",
      "4       2018  ADHD  서울  강남구  남   40~49세    55    357   21611080\n",
      "...      ...   ...  ..  ... ..      ...   ...    ...        ...\n",
      "164995  2022   조현병  세종  세종시  여   60~69세    29    597   40381390\n",
      "164996  2022   조현병  세종  세종시  여   70~79세    13    550   39400730\n",
      "164997  2022   조현병  세종  세종시  여   80~89세     0      0          0\n",
      "164998  2022   조현병  세종  세종시  여   90~99세     0      0          0\n",
      "164999  2022   조현병  세종  세종시  여  100세 이상     0      0          0\n",
      "\n",
      "[165000 rows x 9 columns]\n"
     ]
    }
   ],
   "source": [
    "import pandas as pd\n",
    "\n",
    "# CSV 파일 경로\n",
    "file_path = 'genderAgeuul2018_2022.csv'\n",
    "\n",
    "# CSV 파일을 DataFrame으로 열기\n",
    "df = pd.read_csv(file_path,encoding='cp949')\n",
    "\n",
    "# DataFrame 출력\n",
    "print(df)\n",
    "#v1"
   ],
   "metadata": {
    "collapsed": false,
    "ExecuteTime": {
     "end_time": "2024-01-26T08:19:01.594336Z",
     "start_time": "2024-01-26T08:19:01.468036Z"
    }
   },
   "id": "2681fb4210692eef",
   "execution_count": 6
  },
  {
   "cell_type": "code",
   "outputs": [
    {
     "data": {
      "text/plain": "       행정구역      총인구수   연령구간인구수    0~9세   10~19세   20~29세   30~39세   40~49세  \\\n0     경기도    13630821  13630821  989550  1320631  1682138  1878734  2256931   \n1      수원시    1197257   1197257   82636   113383   175839   184342   195012   \n2  수원시 장안구     270849    270849   15171    26211    40724    33585    41002   \n3  수원시 권선구     366167    366167   25476    32358    49920    57315    59602   \n4  수원시 팔달구     197213    197213   11737    14079    30338    32305    28749   \n\n    50~59세   60~69세  ...  Unnamed: 45  Unnamed: 46  Unnamed: 47  Unnamed: 48  \\\n0  2335999  1831793  ...          NaN          NaN          NaN          NaN   \n1   202330   146108  ...          NaN          NaN          NaN          NaN   \n2    49885    36970  ...          NaN          NaN          NaN          NaN   \n3    62539    48626  ...          NaN          NaN          NaN          NaN   \n4    32690    26876  ...          NaN          NaN          NaN          NaN   \n\n    sum_60  sum_0_20  sum_20_60  oldAgePercent  childAgePercent  \\\n0  3166838   2310181    8153802      23.232922        16.948216   \n1   243715    196019     757523      20.356114        16.372341   \n2    64271     41382     165196      23.729458        15.278624   \n3    78957     57834     229376      21.563112        15.794433   \n4    47315     25816     124082      23.991826        13.090415   \n\n   adultAgePercent  \n0        59.818862  \n1        63.271545  \n2        60.991918  \n3        62.642455  \n4        62.917759  \n\n[5 rows x 55 columns]",
      "text/html": "<div>\n<style scoped>\n    .dataframe tbody tr th:only-of-type {\n        vertical-align: middle;\n    }\n\n    .dataframe tbody tr th {\n        vertical-align: top;\n    }\n\n    .dataframe thead th {\n        text-align: right;\n    }\n</style>\n<table border=\"1\" class=\"dataframe\">\n  <thead>\n    <tr style=\"text-align: right;\">\n      <th></th>\n      <th>행정구역</th>\n      <th>총인구수</th>\n      <th>연령구간인구수</th>\n      <th>0~9세</th>\n      <th>10~19세</th>\n      <th>20~29세</th>\n      <th>30~39세</th>\n      <th>40~49세</th>\n      <th>50~59세</th>\n      <th>60~69세</th>\n      <th>...</th>\n      <th>Unnamed: 45</th>\n      <th>Unnamed: 46</th>\n      <th>Unnamed: 47</th>\n      <th>Unnamed: 48</th>\n      <th>sum_60</th>\n      <th>sum_0_20</th>\n      <th>sum_20_60</th>\n      <th>oldAgePercent</th>\n      <th>childAgePercent</th>\n      <th>adultAgePercent</th>\n    </tr>\n  </thead>\n  <tbody>\n    <tr>\n      <th>0</th>\n      <td>경기도</td>\n      <td>13630821</td>\n      <td>13630821</td>\n      <td>989550</td>\n      <td>1320631</td>\n      <td>1682138</td>\n      <td>1878734</td>\n      <td>2256931</td>\n      <td>2335999</td>\n      <td>1831793</td>\n      <td>...</td>\n      <td>NaN</td>\n      <td>NaN</td>\n      <td>NaN</td>\n      <td>NaN</td>\n      <td>3166838</td>\n      <td>2310181</td>\n      <td>8153802</td>\n      <td>23.232922</td>\n      <td>16.948216</td>\n      <td>59.818862</td>\n    </tr>\n    <tr>\n      <th>1</th>\n      <td>수원시</td>\n      <td>1197257</td>\n      <td>1197257</td>\n      <td>82636</td>\n      <td>113383</td>\n      <td>175839</td>\n      <td>184342</td>\n      <td>195012</td>\n      <td>202330</td>\n      <td>146108</td>\n      <td>...</td>\n      <td>NaN</td>\n      <td>NaN</td>\n      <td>NaN</td>\n      <td>NaN</td>\n      <td>243715</td>\n      <td>196019</td>\n      <td>757523</td>\n      <td>20.356114</td>\n      <td>16.372341</td>\n      <td>63.271545</td>\n    </tr>\n    <tr>\n      <th>2</th>\n      <td>수원시 장안구</td>\n      <td>270849</td>\n      <td>270849</td>\n      <td>15171</td>\n      <td>26211</td>\n      <td>40724</td>\n      <td>33585</td>\n      <td>41002</td>\n      <td>49885</td>\n      <td>36970</td>\n      <td>...</td>\n      <td>NaN</td>\n      <td>NaN</td>\n      <td>NaN</td>\n      <td>NaN</td>\n      <td>64271</td>\n      <td>41382</td>\n      <td>165196</td>\n      <td>23.729458</td>\n      <td>15.278624</td>\n      <td>60.991918</td>\n    </tr>\n    <tr>\n      <th>3</th>\n      <td>수원시 권선구</td>\n      <td>366167</td>\n      <td>366167</td>\n      <td>25476</td>\n      <td>32358</td>\n      <td>49920</td>\n      <td>57315</td>\n      <td>59602</td>\n      <td>62539</td>\n      <td>48626</td>\n      <td>...</td>\n      <td>NaN</td>\n      <td>NaN</td>\n      <td>NaN</td>\n      <td>NaN</td>\n      <td>78957</td>\n      <td>57834</td>\n      <td>229376</td>\n      <td>21.563112</td>\n      <td>15.794433</td>\n      <td>62.642455</td>\n    </tr>\n    <tr>\n      <th>4</th>\n      <td>수원시 팔달구</td>\n      <td>197213</td>\n      <td>197213</td>\n      <td>11737</td>\n      <td>14079</td>\n      <td>30338</td>\n      <td>32305</td>\n      <td>28749</td>\n      <td>32690</td>\n      <td>26876</td>\n      <td>...</td>\n      <td>NaN</td>\n      <td>NaN</td>\n      <td>NaN</td>\n      <td>NaN</td>\n      <td>47315</td>\n      <td>25816</td>\n      <td>124082</td>\n      <td>23.991826</td>\n      <td>13.090415</td>\n      <td>62.917759</td>\n    </tr>\n  </tbody>\n</table>\n<p>5 rows × 55 columns</p>\n</div>"
     },
     "execution_count": 35,
     "metadata": {},
     "output_type": "execute_result"
    }
   ],
   "source": [
    "df2 = pd.read_csv(\"경기인구v1.csv\", encoding='cp949')\n",
    "df3 = pd.read_csv(\"강원인구v1.csv\", encoding='cp949')\n",
    "df4 = pd.read_csv(\"경남인구v1.csv\", encoding='cp949')\n",
    "df5 = pd.read_csv(\"경북인구v1.csv\", encoding='cp949')\n",
    "df6 = pd.read_csv(\"서울_광역시_인구v1.csv\", encoding='cp949')\n",
    "df7 = pd.read_csv(\"세종인구v1.csv\", encoding='cp949')\n",
    "df8 = pd.read_csv(\"전남_인구v1.csv\", encoding='cp949')\n",
    "df9 = pd.read_csv(\"전북_인구v1.csv\", encoding='cp949')\n",
    "df10 = pd.read_csv(\"제주인구v1.csv\", encoding='cp949')\n",
    "df11 = pd.read_csv(\"충남인구v1.csv\", encoding='cp949')\n",
    "df12 = pd.read_csv(\"충북인구v1.csv\", encoding='cp949')\n",
    "\n",
    "df2.head()\n",
    "# df3.head()\n",
    "# df4.head()\n",
    "# df11.head()\n"
   ],
   "metadata": {
    "collapsed": false,
    "ExecuteTime": {
     "end_time": "2024-01-27T17:40:30.019877Z",
     "start_time": "2024-01-27T17:40:29.977639Z"
    }
   },
   "id": "a644a16c81c79187",
   "execution_count": 35
  },
  {
   "cell_type": "code",
   "outputs": [
    {
     "data": {
      "text/plain": "       행정구역      총인구수   연령구간인구수    0~9세   10~19세   20~29세   30~39세   40~49세  \\\n0     경기도    13630821  13630821  989550  1320631  1682138  1878734  2256931   \n1      수원시    1197257   1197257   82636   113383   175839   184342   195012   \n2  수원시 장안구     270849    270849   15171    26211    40724    33585    41002   \n3  수원시 권선구     366167    366167   25476    32358    49920    57315    59602   \n4  수원시 팔달구     197213    197213   11737    14079    30338    32305    28749   \n\n    50~59세   60~69세  70~79세  80~89세  90~99세  100세 이상  oldAgePercent  \\\n0  2335999  1831793  847103  423029   63061     1852      23.232922   \n1   202330   146108   62753   30244    4483      127      20.356114   \n2    49885    36970   16909    8973    1378       41      23.729458   \n3    62539    48626   20039    8919    1345       28      21.563112   \n4    32690    26876   13234    6346     831       28      23.991826   \n\n   childAgePercent  adultAgePercent  \n0        16.948216        59.818862  \n1        16.372341        63.271545  \n2        15.278624        60.991918  \n3        15.794433        62.642455  \n4        13.090415        62.917759  ",
      "text/html": "<div>\n<style scoped>\n    .dataframe tbody tr th:only-of-type {\n        vertical-align: middle;\n    }\n\n    .dataframe tbody tr th {\n        vertical-align: top;\n    }\n\n    .dataframe thead th {\n        text-align: right;\n    }\n</style>\n<table border=\"1\" class=\"dataframe\">\n  <thead>\n    <tr style=\"text-align: right;\">\n      <th></th>\n      <th>행정구역</th>\n      <th>총인구수</th>\n      <th>연령구간인구수</th>\n      <th>0~9세</th>\n      <th>10~19세</th>\n      <th>20~29세</th>\n      <th>30~39세</th>\n      <th>40~49세</th>\n      <th>50~59세</th>\n      <th>60~69세</th>\n      <th>70~79세</th>\n      <th>80~89세</th>\n      <th>90~99세</th>\n      <th>100세 이상</th>\n      <th>oldAgePercent</th>\n      <th>childAgePercent</th>\n      <th>adultAgePercent</th>\n    </tr>\n  </thead>\n  <tbody>\n    <tr>\n      <th>0</th>\n      <td>경기도</td>\n      <td>13630821</td>\n      <td>13630821</td>\n      <td>989550</td>\n      <td>1320631</td>\n      <td>1682138</td>\n      <td>1878734</td>\n      <td>2256931</td>\n      <td>2335999</td>\n      <td>1831793</td>\n      <td>847103</td>\n      <td>423029</td>\n      <td>63061</td>\n      <td>1852</td>\n      <td>23.232922</td>\n      <td>16.948216</td>\n      <td>59.818862</td>\n    </tr>\n    <tr>\n      <th>1</th>\n      <td>수원시</td>\n      <td>1197257</td>\n      <td>1197257</td>\n      <td>82636</td>\n      <td>113383</td>\n      <td>175839</td>\n      <td>184342</td>\n      <td>195012</td>\n      <td>202330</td>\n      <td>146108</td>\n      <td>62753</td>\n      <td>30244</td>\n      <td>4483</td>\n      <td>127</td>\n      <td>20.356114</td>\n      <td>16.372341</td>\n      <td>63.271545</td>\n    </tr>\n    <tr>\n      <th>2</th>\n      <td>수원시 장안구</td>\n      <td>270849</td>\n      <td>270849</td>\n      <td>15171</td>\n      <td>26211</td>\n      <td>40724</td>\n      <td>33585</td>\n      <td>41002</td>\n      <td>49885</td>\n      <td>36970</td>\n      <td>16909</td>\n      <td>8973</td>\n      <td>1378</td>\n      <td>41</td>\n      <td>23.729458</td>\n      <td>15.278624</td>\n      <td>60.991918</td>\n    </tr>\n    <tr>\n      <th>3</th>\n      <td>수원시 권선구</td>\n      <td>366167</td>\n      <td>366167</td>\n      <td>25476</td>\n      <td>32358</td>\n      <td>49920</td>\n      <td>57315</td>\n      <td>59602</td>\n      <td>62539</td>\n      <td>48626</td>\n      <td>20039</td>\n      <td>8919</td>\n      <td>1345</td>\n      <td>28</td>\n      <td>21.563112</td>\n      <td>15.794433</td>\n      <td>62.642455</td>\n    </tr>\n    <tr>\n      <th>4</th>\n      <td>수원시 팔달구</td>\n      <td>197213</td>\n      <td>197213</td>\n      <td>11737</td>\n      <td>14079</td>\n      <td>30338</td>\n      <td>32305</td>\n      <td>28749</td>\n      <td>32690</td>\n      <td>26876</td>\n      <td>13234</td>\n      <td>6346</td>\n      <td>831</td>\n      <td>28</td>\n      <td>23.991826</td>\n      <td>13.090415</td>\n      <td>62.917759</td>\n    </tr>\n  </tbody>\n</table>\n</div>"
     },
     "execution_count": 36,
     "metadata": {},
     "output_type": "execute_result"
    }
   ],
   "source": [
    "new_df2 = df2.drop(df2.columns[14:-3], axis=1)\n",
    "new_df3 = df3.drop(df3.columns[14:-3],axis=1)\n",
    "new_df4 = df4.drop(df4.columns[14:-3],axis=1)\n",
    "new_df5 = df5.drop(df5.columns[14:-3],axis=1)\n",
    "new_df6 = df6.drop(df6.columns[14:-3],axis=1)\n",
    "new_df7 = df7.drop(df7.columns[14:-3],axis=1)\n",
    "new_df8 = df8.drop(df8.columns[14:-3],axis=1)\n",
    "new_df9 = df9.drop(df9.columns[14:-3],axis=1)\n",
    "new_df10 = df10.drop(df10.columns[14:-3],axis=1)\n",
    "new_df11 = df11.drop(df11.columns[14:-3],axis=1)\n",
    "new_df12 =df12.drop(df12.columns[14:-3],axis=1)\n",
    "\n",
    "new_df2.head()\n"
   ],
   "metadata": {
    "collapsed": false,
    "ExecuteTime": {
     "end_time": "2024-01-27T17:40:35.272835Z",
     "start_time": "2024-01-27T17:40:35.261189Z"
    }
   },
   "id": "bfa32efa6780c0d9",
   "execution_count": 36
  },
  {
   "cell_type": "code",
   "outputs": [
    {
     "name": "stdout",
     "output_type": "stream",
     "text": [
      "         행정구역     총인구수  연령구간인구수   0~9세  10~19세  20~29세  30~39세  40~49세  \\\n",
      "0   강원특별자치도    1527807  1527807  90872  129053  163610  158594  208819   \n",
      "1        춘천시    286426   286426  18917   26060   36972   34305   40807   \n",
      "2        원주시    361503   361503  25618   34679   42306   45545   55623   \n",
      "3        강릉시    209439   209439  11413   17380   22654   20358   29591   \n",
      "4        동해시     88625    88625   5426    8266    8485    8244   13245   \n",
      "5        태백시     38702    38702   1823    3385    3053    2844    5531   \n",
      "6        속초시     82054    82054   5063    6826    8130    8946   11671   \n",
      "7        삼척시     62651    62651   3196    4806    6589    4898    7831   \n",
      "8        홍천군     67309    67309   3193    4544    5752    5544    7349   \n",
      "9        횡성군     46359    46359   1873    3349    3165    3007    4659   \n",
      "10       영월군     37332    37332   1420    2576    2799    2368    4034   \n",
      "11       평창군     40659    40659   1413    2623    3034    2690    4496   \n",
      "12       정선군     34202    34202   1315    2239    2291    2316    4174   \n",
      "13       철원군     41448    41448   2659    3283    4532    4259    4890   \n",
      "14       화천군     23007    23007   1459    1618    2928    2595    2347   \n",
      "15       양구군     21056    21056   1454    1845    2412    2325    2380   \n",
      "16       인제군     32020    32020   2289    2287    3888    3898    3906   \n",
      "17       고성군     27305    27305   1272    1593    2518    2373    2939   \n",
      "18       양양군     27710    27710   1069    1694    2102    2079    3346   \n",
      "\n",
      "    50~59세  60~69세  70~79세  80~89세  90~99세  100세 이상  oldAgePercent  \\\n",
      "0   262513  275323  141876   84135   12622      390      33.665640   \n",
      "1    46897   44359   21996   13913    2137       63      28.792079   \n",
      "2    62537   54711   23940   14305    2184       55      26.333115   \n",
      "3    36506   37188   20886   11534    1869       60      34.156485   \n",
      "4    15922   15323    8542    4533     626       13      32.763893   \n",
      "5     6860    7641    4877    2441     239        8      39.289959   \n",
      "6    14927   14827    7248    3797     609       10      32.284837   \n",
      "7    10760   12185    7202    4440     722       22      39.218847   \n",
      "8    11419   15943    7877    4897     768       23      43.839605   \n",
      "9     8140   11782    6090    3710     564       20      47.813801   \n",
      "10    6788    8875    5008    3034     420       10      46.466838   \n",
      "11    7609   10046    5322    2999     410       17      46.223468   \n",
      "12    6336    8139    4449    2575     350       18      45.409625   \n",
      "13    6617    7708    4369    2749     368       14      36.691758   \n",
      "14    3616    4339    2191    1677     223       14      36.701873   \n",
      "15    3224    3970    1903    1340     198        5      35.220365   \n",
      "16    4846    6119    2770    1735     271       11      34.059963   \n",
      "17    4648    5988    3451    2194     316       13      43.808826   \n",
      "18    4861    6180    3755    2262     348       14      45.322988   \n",
      "\n",
      "    childAgePercent  adultAgePercent  \n",
      "0         14.394816        51.939545  \n",
      "1         15.702834        55.505087  \n",
      "2         16.679530        56.987356  \n",
      "3         13.747678        52.095837  \n",
      "4         15.449365        51.786742  \n",
      "5         13.456669        47.253372  \n",
      "6         14.489239        53.225924  \n",
      "7         12.772342        48.008811  \n",
      "8         11.494748        44.665646  \n",
      "9         11.264264        40.921935  \n",
      "10        10.703954        42.829208  \n",
      "11         9.926462        43.850070  \n",
      "12        10.391205        44.199170  \n",
      "13        14.336036        48.972206  \n",
      "14        13.374190        49.923936  \n",
      "15        15.667743        49.111892  \n",
      "16        14.291068        51.648969  \n",
      "17        10.492584        45.698590  \n",
      "18         9.971130        44.705882  \n"
     ]
    }
   ],
   "source": [
    "print(new_df3)\n"
   ],
   "metadata": {
    "collapsed": false,
    "ExecuteTime": {
     "end_time": "2024-01-27T17:40:36.464820Z",
     "start_time": "2024-01-27T17:40:36.459543Z"
    }
   },
   "id": "fe79f92ecf062b46",
   "execution_count": 37
  },
  {
   "cell_type": "code",
   "outputs": [
    {
     "name": "stdout",
     "output_type": "stream",
     "text": [
      "DataFrame saved to people_combined_data.csv\n"
     ]
    }
   ],
   "source": [
    "combined_df = pd.concat([new_df2, new_df3, new_df4, new_df5, new_df6, new_df7, new_df8, new_df9, new_df10, new_df11, new_df12], axis=0)\n",
    "\n",
    "#합쳐진 엑셀 NaN지우기\n",
    "cleaned_df = combined_df.dropna()\n",
    "\n",
    "# CSV 파일로 저장\n",
    "csv_file = 'people_combined_data.csv'\n",
    "cleaned_df.to_csv(csv_file, index=False, encoding=\"cp949\")\n",
    "\n",
    "print(f'DataFrame saved to {csv_file}')"
   ],
   "metadata": {
    "collapsed": false,
    "ExecuteTime": {
     "end_time": "2024-01-27T17:40:38.143915Z",
     "start_time": "2024-01-27T17:40:38.129517Z"
    }
   },
   "id": "abc60fd867345a99",
   "execution_count": 38
  },
  {
   "cell_type": "code",
   "outputs": [],
   "source": [
    "\n",
    "\n"
   ],
   "metadata": {
    "collapsed": false
   },
   "id": "f599e83fb8167258"
  }
 ],
 "metadata": {
  "kernelspec": {
   "display_name": "Python 3",
   "language": "python",
   "name": "python3"
  },
  "language_info": {
   "codemirror_mode": {
    "name": "ipython",
    "version": 2
   },
   "file_extension": ".py",
   "mimetype": "text/x-python",
   "name": "python",
   "nbconvert_exporter": "python",
   "pygments_lexer": "ipython2",
   "version": "2.7.6"
  }
 },
 "nbformat": 4,
 "nbformat_minor": 5
}
