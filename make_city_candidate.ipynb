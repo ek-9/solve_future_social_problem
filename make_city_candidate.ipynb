{
 "cells": [
  {
   "cell_type": "code",
   "execution_count": 1,
   "id": "initial_id",
   "metadata": {
    "collapsed": true,
    "ExecuteTime": {
     "end_time": "2024-01-26T08:43:11.104600Z",
     "start_time": "2024-01-26T08:43:10.782489Z"
    }
   },
   "outputs": [],
   "source": [
    "import pandas as pd\n",
    "\n",
    "df = pd.read_csv(\"people_combined_data.csv\")"
   ]
  },
  {
   "cell_type": "code",
   "outputs": [
    {
     "data": {
      "text/plain": "       행정구역        총인구수     연령구간인구수      0~9세     10~19세     20~29세  \\\n0     경기도    13630821.0  13630821.0  989550.0  1320631.0  1682138.0   \n1      수원시    1197257.0   1197257.0   82636.0   113383.0   175839.0   \n2  수원시 장안구     270849.0    270849.0   15171.0    26211.0    40724.0   \n3  수원시 권선구     366167.0    366167.0   25476.0    32358.0    49920.0   \n4  수원시 팔달구     197213.0    197213.0   11737.0    14079.0    30338.0   \n\n      30~39세     40~49세     50~59세     60~69세    70~79세    80~89세   90~99세  \\\n0  1878734.0  2256931.0  2335999.0  1831793.0  847103.0  423029.0  63061.0   \n1   184342.0   195012.0   202330.0   146108.0   62753.0   30244.0   4483.0   \n2    33585.0    41002.0    49885.0    36970.0   16909.0    8973.0   1378.0   \n3    57315.0    59602.0    62539.0    48626.0   20039.0    8919.0   1345.0   \n4    32305.0    28749.0    32690.0    26876.0   13234.0    6346.0    831.0   \n\n   100세 이상  oldAgePercent  childAgePercent  adultAgePercent  \n0   1852.0      23.232922        16.948216        59.818862  \n1    127.0      20.356114        16.372341        63.271545  \n2     41.0      23.729458        15.278624        60.991918  \n3     28.0      21.563112        15.794433        62.642455  \n4     28.0      23.991826        13.090415        62.917759  ",
      "text/html": "<div>\n<style scoped>\n    .dataframe tbody tr th:only-of-type {\n        vertical-align: middle;\n    }\n\n    .dataframe tbody tr th {\n        vertical-align: top;\n    }\n\n    .dataframe thead th {\n        text-align: right;\n    }\n</style>\n<table border=\"1\" class=\"dataframe\">\n  <thead>\n    <tr style=\"text-align: right;\">\n      <th></th>\n      <th>행정구역</th>\n      <th>총인구수</th>\n      <th>연령구간인구수</th>\n      <th>0~9세</th>\n      <th>10~19세</th>\n      <th>20~29세</th>\n      <th>30~39세</th>\n      <th>40~49세</th>\n      <th>50~59세</th>\n      <th>60~69세</th>\n      <th>70~79세</th>\n      <th>80~89세</th>\n      <th>90~99세</th>\n      <th>100세 이상</th>\n      <th>oldAgePercent</th>\n      <th>childAgePercent</th>\n      <th>adultAgePercent</th>\n    </tr>\n  </thead>\n  <tbody>\n    <tr>\n      <th>0</th>\n      <td>경기도</td>\n      <td>13630821.0</td>\n      <td>13630821.0</td>\n      <td>989550.0</td>\n      <td>1320631.0</td>\n      <td>1682138.0</td>\n      <td>1878734.0</td>\n      <td>2256931.0</td>\n      <td>2335999.0</td>\n      <td>1831793.0</td>\n      <td>847103.0</td>\n      <td>423029.0</td>\n      <td>63061.0</td>\n      <td>1852.0</td>\n      <td>23.232922</td>\n      <td>16.948216</td>\n      <td>59.818862</td>\n    </tr>\n    <tr>\n      <th>1</th>\n      <td>수원시</td>\n      <td>1197257.0</td>\n      <td>1197257.0</td>\n      <td>82636.0</td>\n      <td>113383.0</td>\n      <td>175839.0</td>\n      <td>184342.0</td>\n      <td>195012.0</td>\n      <td>202330.0</td>\n      <td>146108.0</td>\n      <td>62753.0</td>\n      <td>30244.0</td>\n      <td>4483.0</td>\n      <td>127.0</td>\n      <td>20.356114</td>\n      <td>16.372341</td>\n      <td>63.271545</td>\n    </tr>\n    <tr>\n      <th>2</th>\n      <td>수원시 장안구</td>\n      <td>270849.0</td>\n      <td>270849.0</td>\n      <td>15171.0</td>\n      <td>26211.0</td>\n      <td>40724.0</td>\n      <td>33585.0</td>\n      <td>41002.0</td>\n      <td>49885.0</td>\n      <td>36970.0</td>\n      <td>16909.0</td>\n      <td>8973.0</td>\n      <td>1378.0</td>\n      <td>41.0</td>\n      <td>23.729458</td>\n      <td>15.278624</td>\n      <td>60.991918</td>\n    </tr>\n    <tr>\n      <th>3</th>\n      <td>수원시 권선구</td>\n      <td>366167.0</td>\n      <td>366167.0</td>\n      <td>25476.0</td>\n      <td>32358.0</td>\n      <td>49920.0</td>\n      <td>57315.0</td>\n      <td>59602.0</td>\n      <td>62539.0</td>\n      <td>48626.0</td>\n      <td>20039.0</td>\n      <td>8919.0</td>\n      <td>1345.0</td>\n      <td>28.0</td>\n      <td>21.563112</td>\n      <td>15.794433</td>\n      <td>62.642455</td>\n    </tr>\n    <tr>\n      <th>4</th>\n      <td>수원시 팔달구</td>\n      <td>197213.0</td>\n      <td>197213.0</td>\n      <td>11737.0</td>\n      <td>14079.0</td>\n      <td>30338.0</td>\n      <td>32305.0</td>\n      <td>28749.0</td>\n      <td>32690.0</td>\n      <td>26876.0</td>\n      <td>13234.0</td>\n      <td>6346.0</td>\n      <td>831.0</td>\n      <td>28.0</td>\n      <td>23.991826</td>\n      <td>13.090415</td>\n      <td>62.917759</td>\n    </tr>\n  </tbody>\n</table>\n</div>"
     },
     "execution_count": 15,
     "metadata": {},
     "output_type": "execute_result"
    }
   ],
   "source": [
    "df.head()"
   ],
   "metadata": {
    "collapsed": false,
    "ExecuteTime": {
     "end_time": "2024-01-27T05:36:31.260434Z",
     "start_time": "2024-01-27T05:36:31.255540Z"
    }
   },
   "id": "7e8379f573b60f73",
   "execution_count": 15
  },
  {
   "cell_type": "code",
   "outputs": [
    {
     "data": {
      "text/plain": "   진료년도  상별구분  시도  시군구 성별    연령구분   환자수  입내원일수     요양급여비용\n0  2018  ADHD  서울  강남구  남    0~9세   437   3330  188836790\n1  2018  ADHD  서울  강남구  남  10~19세  1111   8869  563498480\n2  2018  ADHD  서울  강남구  남  20~29세   456   3485  213248290\n3  2018  ADHD  서울  강남구  남  30~39세   174   1357   72761750\n4  2018  ADHD  서울  강남구  남  40~49세    55    357   21611080",
      "text/html": "<div>\n<style scoped>\n    .dataframe tbody tr th:only-of-type {\n        vertical-align: middle;\n    }\n\n    .dataframe tbody tr th {\n        vertical-align: top;\n    }\n\n    .dataframe thead th {\n        text-align: right;\n    }\n</style>\n<table border=\"1\" class=\"dataframe\">\n  <thead>\n    <tr style=\"text-align: right;\">\n      <th></th>\n      <th>진료년도</th>\n      <th>상별구분</th>\n      <th>시도</th>\n      <th>시군구</th>\n      <th>성별</th>\n      <th>연령구분</th>\n      <th>환자수</th>\n      <th>입내원일수</th>\n      <th>요양급여비용</th>\n    </tr>\n  </thead>\n  <tbody>\n    <tr>\n      <th>0</th>\n      <td>2018</td>\n      <td>ADHD</td>\n      <td>서울</td>\n      <td>강남구</td>\n      <td>남</td>\n      <td>0~9세</td>\n      <td>437</td>\n      <td>3330</td>\n      <td>188836790</td>\n    </tr>\n    <tr>\n      <th>1</th>\n      <td>2018</td>\n      <td>ADHD</td>\n      <td>서울</td>\n      <td>강남구</td>\n      <td>남</td>\n      <td>10~19세</td>\n      <td>1111</td>\n      <td>8869</td>\n      <td>563498480</td>\n    </tr>\n    <tr>\n      <th>2</th>\n      <td>2018</td>\n      <td>ADHD</td>\n      <td>서울</td>\n      <td>강남구</td>\n      <td>남</td>\n      <td>20~29세</td>\n      <td>456</td>\n      <td>3485</td>\n      <td>213248290</td>\n    </tr>\n    <tr>\n      <th>3</th>\n      <td>2018</td>\n      <td>ADHD</td>\n      <td>서울</td>\n      <td>강남구</td>\n      <td>남</td>\n      <td>30~39세</td>\n      <td>174</td>\n      <td>1357</td>\n      <td>72761750</td>\n    </tr>\n    <tr>\n      <th>4</th>\n      <td>2018</td>\n      <td>ADHD</td>\n      <td>서울</td>\n      <td>강남구</td>\n      <td>남</td>\n      <td>40~49세</td>\n      <td>55</td>\n      <td>357</td>\n      <td>21611080</td>\n    </tr>\n  </tbody>\n</table>\n</div>"
     },
     "execution_count": 16,
     "metadata": {},
     "output_type": "execute_result"
    }
   ],
   "source": [
    "df2 = pd.read_csv(\"genderAgeuul2018_2022.csv\", encoding='cp949')\n",
    "df2.head()"
   ],
   "metadata": {
    "collapsed": false,
    "ExecuteTime": {
     "end_time": "2024-01-27T05:36:41.060291Z",
     "start_time": "2024-01-27T05:36:40.933362Z"
    }
   },
   "id": "68507b7f10a0261e",
   "execution_count": 16
  },
  {
   "cell_type": "code",
   "outputs": [],
   "source": [
    "df_filtered= df2[df2['상별구분']=='우울증']\n",
    "\n",
    "df_filtered.to_csv(\"uulData.csv\",encoding='cp949',index=False)"
   ],
   "metadata": {
    "collapsed": false,
    "ExecuteTime": {
     "end_time": "2024-01-27T06:16:41.847561Z",
     "start_time": "2024-01-27T06:16:41.801020Z"
    }
   },
   "id": "4d3e2955c6b5c4c",
   "execution_count": 29
  },
  {
   "cell_type": "code",
   "outputs": [
    {
     "data": {
      "text/plain": "   진료년도 상별구분  시도  시군구 성별    연령구분   환자수  입내원일수     요양급여비용\n0  2018  우울증  서울  강남구  남    0~9세    17    143    6089540\n1  2018  우울증  서울  강남구  남  10~19세   563   5125  341371930\n2  2018  우울증  서울  강남구  남  20~29세  1555  11045  733848570\n3  2018  우울증  서울  강남구  남  30~39세  1372   8814  566378520\n4  2018  우울증  서울  강남구  남  40~49세  1200   7944  472023980",
      "text/html": "<div>\n<style scoped>\n    .dataframe tbody tr th:only-of-type {\n        vertical-align: middle;\n    }\n\n    .dataframe tbody tr th {\n        vertical-align: top;\n    }\n\n    .dataframe thead th {\n        text-align: right;\n    }\n</style>\n<table border=\"1\" class=\"dataframe\">\n  <thead>\n    <tr style=\"text-align: right;\">\n      <th></th>\n      <th>진료년도</th>\n      <th>상별구분</th>\n      <th>시도</th>\n      <th>시군구</th>\n      <th>성별</th>\n      <th>연령구분</th>\n      <th>환자수</th>\n      <th>입내원일수</th>\n      <th>요양급여비용</th>\n    </tr>\n  </thead>\n  <tbody>\n    <tr>\n      <th>0</th>\n      <td>2018</td>\n      <td>우울증</td>\n      <td>서울</td>\n      <td>강남구</td>\n      <td>남</td>\n      <td>0~9세</td>\n      <td>17</td>\n      <td>143</td>\n      <td>6089540</td>\n    </tr>\n    <tr>\n      <th>1</th>\n      <td>2018</td>\n      <td>우울증</td>\n      <td>서울</td>\n      <td>강남구</td>\n      <td>남</td>\n      <td>10~19세</td>\n      <td>563</td>\n      <td>5125</td>\n      <td>341371930</td>\n    </tr>\n    <tr>\n      <th>2</th>\n      <td>2018</td>\n      <td>우울증</td>\n      <td>서울</td>\n      <td>강남구</td>\n      <td>남</td>\n      <td>20~29세</td>\n      <td>1555</td>\n      <td>11045</td>\n      <td>733848570</td>\n    </tr>\n    <tr>\n      <th>3</th>\n      <td>2018</td>\n      <td>우울증</td>\n      <td>서울</td>\n      <td>강남구</td>\n      <td>남</td>\n      <td>30~39세</td>\n      <td>1372</td>\n      <td>8814</td>\n      <td>566378520</td>\n    </tr>\n    <tr>\n      <th>4</th>\n      <td>2018</td>\n      <td>우울증</td>\n      <td>서울</td>\n      <td>강남구</td>\n      <td>남</td>\n      <td>40~49세</td>\n      <td>1200</td>\n      <td>7944</td>\n      <td>472023980</td>\n    </tr>\n  </tbody>\n</table>\n</div>"
     },
     "execution_count": 31,
     "metadata": {},
     "output_type": "execute_result"
    }
   ],
   "source": [
    "df2 = pd.read_csv(\"uulData.csv\", encoding=\"cp949\")\n",
    "df2.head()"
   ],
   "metadata": {
    "collapsed": false,
    "ExecuteTime": {
     "end_time": "2024-01-27T06:20:00.560886Z",
     "start_time": "2024-01-27T06:20:00.518989Z"
    }
   },
   "id": "4b57b6d1ed3afe67",
   "execution_count": 31
  },
  {
   "cell_type": "code",
   "outputs": [],
   "source": [],
   "metadata": {
    "collapsed": false
   },
   "id": "12e0809d401aeda4"
  }
 ],
 "metadata": {
  "kernelspec": {
   "display_name": "Python 3",
   "language": "python",
   "name": "python3"
  },
  "language_info": {
   "codemirror_mode": {
    "name": "ipython",
    "version": 2
   },
   "file_extension": ".py",
   "mimetype": "text/x-python",
   "name": "python",
   "nbconvert_exporter": "python",
   "pygments_lexer": "ipython2",
   "version": "2.7.6"
  }
 },
 "nbformat": 4,
 "nbformat_minor": 5
}
