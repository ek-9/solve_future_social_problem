{
 "cells": [
  {
   "cell_type": "code",
   "execution_count": 1,
   "id": "initial_id",
   "metadata": {
    "collapsed": true,
    "ExecuteTime": {
     "end_time": "2024-01-26T08:43:11.104600Z",
     "start_time": "2024-01-26T08:43:10.782489Z"
    }
   },
   "outputs": [],
   "source": [
    "import pandas as pd\n",
    "\n",
    "df = pd.read_csv(\"people_combined_data.csv\")"
   ]
  },
  {
   "cell_type": "code",
   "outputs": [
    {
     "data": {
      "text/plain": "       행정구역        총인구수     연령구간인구수      0~9세     10~19세     20~29세  \\\n0     경기도    13630821.0  13630821.0  989550.0  1320631.0  1682138.0   \n1      수원시    1197257.0   1197257.0   82636.0   113383.0   175839.0   \n2  수원시 장안구     270849.0    270849.0   15171.0    26211.0    40724.0   \n3  수원시 권선구     366167.0    366167.0   25476.0    32358.0    49920.0   \n4  수원시 팔달구     197213.0    197213.0   11737.0    14079.0    30338.0   \n\n      30~39세     40~49세     50~59세     60~69세    70~79세    80~89세   90~99세  \\\n0  1878734.0  2256931.0  2335999.0  1831793.0  847103.0  423029.0  63061.0   \n1   184342.0   195012.0   202330.0   146108.0   62753.0   30244.0   4483.0   \n2    33585.0    41002.0    49885.0    36970.0   16909.0    8973.0   1378.0   \n3    57315.0    59602.0    62539.0    48626.0   20039.0    8919.0   1345.0   \n4    32305.0    28749.0    32690.0    26876.0   13234.0    6346.0    831.0   \n\n   100세 이상  oldAgePercent  childAgePercent  adultAgePercent  \n0   1852.0      23.232922        16.948216        59.818862  \n1    127.0      20.356114        16.372341        63.271545  \n2     41.0      23.729458        15.278624        60.991918  \n3     28.0      21.563112        15.794433        62.642455  \n4     28.0      23.991826        13.090415        62.917759  ",
      "text/html": "<div>\n<style scoped>\n    .dataframe tbody tr th:only-of-type {\n        vertical-align: middle;\n    }\n\n    .dataframe tbody tr th {\n        vertical-align: top;\n    }\n\n    .dataframe thead th {\n        text-align: right;\n    }\n</style>\n<table border=\"1\" class=\"dataframe\">\n  <thead>\n    <tr style=\"text-align: right;\">\n      <th></th>\n      <th>행정구역</th>\n      <th>총인구수</th>\n      <th>연령구간인구수</th>\n      <th>0~9세</th>\n      <th>10~19세</th>\n      <th>20~29세</th>\n      <th>30~39세</th>\n      <th>40~49세</th>\n      <th>50~59세</th>\n      <th>60~69세</th>\n      <th>70~79세</th>\n      <th>80~89세</th>\n      <th>90~99세</th>\n      <th>100세 이상</th>\n      <th>oldAgePercent</th>\n      <th>childAgePercent</th>\n      <th>adultAgePercent</th>\n    </tr>\n  </thead>\n  <tbody>\n    <tr>\n      <th>0</th>\n      <td>경기도</td>\n      <td>13630821.0</td>\n      <td>13630821.0</td>\n      <td>989550.0</td>\n      <td>1320631.0</td>\n      <td>1682138.0</td>\n      <td>1878734.0</td>\n      <td>2256931.0</td>\n      <td>2335999.0</td>\n      <td>1831793.0</td>\n      <td>847103.0</td>\n      <td>423029.0</td>\n      <td>63061.0</td>\n      <td>1852.0</td>\n      <td>23.232922</td>\n      <td>16.948216</td>\n      <td>59.818862</td>\n    </tr>\n    <tr>\n      <th>1</th>\n      <td>수원시</td>\n      <td>1197257.0</td>\n      <td>1197257.0</td>\n      <td>82636.0</td>\n      <td>113383.0</td>\n      <td>175839.0</td>\n      <td>184342.0</td>\n      <td>195012.0</td>\n      <td>202330.0</td>\n      <td>146108.0</td>\n      <td>62753.0</td>\n      <td>30244.0</td>\n      <td>4483.0</td>\n      <td>127.0</td>\n      <td>20.356114</td>\n      <td>16.372341</td>\n      <td>63.271545</td>\n    </tr>\n    <tr>\n      <th>2</th>\n      <td>수원시 장안구</td>\n      <td>270849.0</td>\n      <td>270849.0</td>\n      <td>15171.0</td>\n      <td>26211.0</td>\n      <td>40724.0</td>\n      <td>33585.0</td>\n      <td>41002.0</td>\n      <td>49885.0</td>\n      <td>36970.0</td>\n      <td>16909.0</td>\n      <td>8973.0</td>\n      <td>1378.0</td>\n      <td>41.0</td>\n      <td>23.729458</td>\n      <td>15.278624</td>\n      <td>60.991918</td>\n    </tr>\n    <tr>\n      <th>3</th>\n      <td>수원시 권선구</td>\n      <td>366167.0</td>\n      <td>366167.0</td>\n      <td>25476.0</td>\n      <td>32358.0</td>\n      <td>49920.0</td>\n      <td>57315.0</td>\n      <td>59602.0</td>\n      <td>62539.0</td>\n      <td>48626.0</td>\n      <td>20039.0</td>\n      <td>8919.0</td>\n      <td>1345.0</td>\n      <td>28.0</td>\n      <td>21.563112</td>\n      <td>15.794433</td>\n      <td>62.642455</td>\n    </tr>\n    <tr>\n      <th>4</th>\n      <td>수원시 팔달구</td>\n      <td>197213.0</td>\n      <td>197213.0</td>\n      <td>11737.0</td>\n      <td>14079.0</td>\n      <td>30338.0</td>\n      <td>32305.0</td>\n      <td>28749.0</td>\n      <td>32690.0</td>\n      <td>26876.0</td>\n      <td>13234.0</td>\n      <td>6346.0</td>\n      <td>831.0</td>\n      <td>28.0</td>\n      <td>23.991826</td>\n      <td>13.090415</td>\n      <td>62.917759</td>\n    </tr>\n  </tbody>\n</table>\n</div>"
     },
     "execution_count": 15,
     "metadata": {},
     "output_type": "execute_result"
    }
   ],
   "source": [
    "df.head()"
   ],
   "metadata": {
    "collapsed": false,
    "ExecuteTime": {
     "end_time": "2024-01-27T05:36:31.260434Z",
     "start_time": "2024-01-27T05:36:31.255540Z"
    }
   },
   "id": "7e8379f573b60f73",
   "execution_count": 15
  },
  {
   "cell_type": "code",
   "outputs": [
    {
     "data": {
      "text/plain": "   진료년도  상별구분  시도  시군구 성별    연령구분   환자수  입내원일수     요양급여비용\n0  2018  ADHD  서울  강남구  남    0~9세   437   3330  188836790\n1  2018  ADHD  서울  강남구  남  10~19세  1111   8869  563498480\n2  2018  ADHD  서울  강남구  남  20~29세   456   3485  213248290\n3  2018  ADHD  서울  강남구  남  30~39세   174   1357   72761750\n4  2018  ADHD  서울  강남구  남  40~49세    55    357   21611080",
      "text/html": "<div>\n<style scoped>\n    .dataframe tbody tr th:only-of-type {\n        vertical-align: middle;\n    }\n\n    .dataframe tbody tr th {\n        vertical-align: top;\n    }\n\n    .dataframe thead th {\n        text-align: right;\n    }\n</style>\n<table border=\"1\" class=\"dataframe\">\n  <thead>\n    <tr style=\"text-align: right;\">\n      <th></th>\n      <th>진료년도</th>\n      <th>상별구분</th>\n      <th>시도</th>\n      <th>시군구</th>\n      <th>성별</th>\n      <th>연령구분</th>\n      <th>환자수</th>\n      <th>입내원일수</th>\n      <th>요양급여비용</th>\n    </tr>\n  </thead>\n  <tbody>\n    <tr>\n      <th>0</th>\n      <td>2018</td>\n      <td>ADHD</td>\n      <td>서울</td>\n      <td>강남구</td>\n      <td>남</td>\n      <td>0~9세</td>\n      <td>437</td>\n      <td>3330</td>\n      <td>188836790</td>\n    </tr>\n    <tr>\n      <th>1</th>\n      <td>2018</td>\n      <td>ADHD</td>\n      <td>서울</td>\n      <td>강남구</td>\n      <td>남</td>\n      <td>10~19세</td>\n      <td>1111</td>\n      <td>8869</td>\n      <td>563498480</td>\n    </tr>\n    <tr>\n      <th>2</th>\n      <td>2018</td>\n      <td>ADHD</td>\n      <td>서울</td>\n      <td>강남구</td>\n      <td>남</td>\n      <td>20~29세</td>\n      <td>456</td>\n      <td>3485</td>\n      <td>213248290</td>\n    </tr>\n    <tr>\n      <th>3</th>\n      <td>2018</td>\n      <td>ADHD</td>\n      <td>서울</td>\n      <td>강남구</td>\n      <td>남</td>\n      <td>30~39세</td>\n      <td>174</td>\n      <td>1357</td>\n      <td>72761750</td>\n    </tr>\n    <tr>\n      <th>4</th>\n      <td>2018</td>\n      <td>ADHD</td>\n      <td>서울</td>\n      <td>강남구</td>\n      <td>남</td>\n      <td>40~49세</td>\n      <td>55</td>\n      <td>357</td>\n      <td>21611080</td>\n    </tr>\n  </tbody>\n</table>\n</div>"
     },
     "execution_count": 16,
     "metadata": {},
     "output_type": "execute_result"
    }
   ],
   "source": [
    "df2 = pd.read_csv(\"genderAgeuul2018_2022.csv\", encoding='cp949')\n",
    "df2.head()"
   ],
   "metadata": {
    "collapsed": false,
    "ExecuteTime": {
     "end_time": "2024-01-27T05:36:41.060291Z",
     "start_time": "2024-01-27T05:36:40.933362Z"
    }
   },
   "id": "68507b7f10a0261e",
   "execution_count": 16
  },
  {
   "cell_type": "code",
   "outputs": [],
   "source": [
    "df_filtered= df2[df2['상별구분']=='우울증']\n",
    "\n",
    "df_filtered.to_csv(\"uulData.csv\",encoding='cp949',index=False)"
   ],
   "metadata": {
    "collapsed": false,
    "ExecuteTime": {
     "end_time": "2024-01-27T06:16:41.847561Z",
     "start_time": "2024-01-27T06:16:41.801020Z"
    }
   },
   "id": "4d3e2955c6b5c4c",
   "execution_count": 29
  },
  {
   "cell_type": "code",
   "outputs": [
    {
     "data": {
      "text/plain": "   진료년도 상별구분  시도  시군구 성별    연령구분   환자수  입내원일수     요양급여비용\n0  2018  우울증  서울  강남구  남    0~9세    17    143    6089540\n1  2018  우울증  서울  강남구  남  10~19세   563   5125  341371930\n2  2018  우울증  서울  강남구  남  20~29세  1555  11045  733848570\n3  2018  우울증  서울  강남구  남  30~39세  1372   8814  566378520\n4  2018  우울증  서울  강남구  남  40~49세  1200   7944  472023980",
      "text/html": "<div>\n<style scoped>\n    .dataframe tbody tr th:only-of-type {\n        vertical-align: middle;\n    }\n\n    .dataframe tbody tr th {\n        vertical-align: top;\n    }\n\n    .dataframe thead th {\n        text-align: right;\n    }\n</style>\n<table border=\"1\" class=\"dataframe\">\n  <thead>\n    <tr style=\"text-align: right;\">\n      <th></th>\n      <th>진료년도</th>\n      <th>상별구분</th>\n      <th>시도</th>\n      <th>시군구</th>\n      <th>성별</th>\n      <th>연령구분</th>\n      <th>환자수</th>\n      <th>입내원일수</th>\n      <th>요양급여비용</th>\n    </tr>\n  </thead>\n  <tbody>\n    <tr>\n      <th>0</th>\n      <td>2018</td>\n      <td>우울증</td>\n      <td>서울</td>\n      <td>강남구</td>\n      <td>남</td>\n      <td>0~9세</td>\n      <td>17</td>\n      <td>143</td>\n      <td>6089540</td>\n    </tr>\n    <tr>\n      <th>1</th>\n      <td>2018</td>\n      <td>우울증</td>\n      <td>서울</td>\n      <td>강남구</td>\n      <td>남</td>\n      <td>10~19세</td>\n      <td>563</td>\n      <td>5125</td>\n      <td>341371930</td>\n    </tr>\n    <tr>\n      <th>2</th>\n      <td>2018</td>\n      <td>우울증</td>\n      <td>서울</td>\n      <td>강남구</td>\n      <td>남</td>\n      <td>20~29세</td>\n      <td>1555</td>\n      <td>11045</td>\n      <td>733848570</td>\n    </tr>\n    <tr>\n      <th>3</th>\n      <td>2018</td>\n      <td>우울증</td>\n      <td>서울</td>\n      <td>강남구</td>\n      <td>남</td>\n      <td>30~39세</td>\n      <td>1372</td>\n      <td>8814</td>\n      <td>566378520</td>\n    </tr>\n    <tr>\n      <th>4</th>\n      <td>2018</td>\n      <td>우울증</td>\n      <td>서울</td>\n      <td>강남구</td>\n      <td>남</td>\n      <td>40~49세</td>\n      <td>1200</td>\n      <td>7944</td>\n      <td>472023980</td>\n    </tr>\n  </tbody>\n</table>\n</div>"
     },
     "execution_count": 66,
     "metadata": {},
     "output_type": "execute_result"
    }
   ],
   "source": [
    "df2 = pd.read_csv(\"uulData.csv\", encoding=\"cp949\")\n",
    "df2.head()"
   ],
   "metadata": {
    "collapsed": false,
    "ExecuteTime": {
     "end_time": "2024-01-27T16:26:11.717975Z",
     "start_time": "2024-01-27T16:26:11.674145Z"
    }
   },
   "id": "4b57b6d1ed3afe67",
   "execution_count": 66
  },
  {
   "cell_type": "code",
   "outputs": [],
   "source": [],
   "metadata": {
    "collapsed": false,
    "ExecuteTime": {
     "end_time": "2024-01-27T16:26:13.859243Z",
     "start_time": "2024-01-27T16:26:13.852393Z"
    }
   },
   "id": "12e0809d401aeda4",
   "execution_count": 66
  },
  {
   "cell_type": "code",
   "outputs": [
    {
     "data": {
      "text/plain": "   진료년도 상별구분  시도  시군구 성별    연령구분   환자수  입내원일수     요양급여비용  age_sum\n0  2018  우울증  서울  강남구  남    0~9세    17    143    6089540    580.0\n1  2018  우울증  서울  강남구  남  10~19세   563   5125  341371930    580.0\n2  2018  우울증  서울  강남구  남  20~29세  1555  11045  733848570   5173.0\n3  2018  우울증  서울  강남구  남  30~39세  1372   8814  566378520   5173.0\n4  2018  우울증  서울  강남구  남  40~49세  1200   7944  472023980   5173.0",
      "text/html": "<div>\n<style scoped>\n    .dataframe tbody tr th:only-of-type {\n        vertical-align: middle;\n    }\n\n    .dataframe tbody tr th {\n        vertical-align: top;\n    }\n\n    .dataframe thead th {\n        text-align: right;\n    }\n</style>\n<table border=\"1\" class=\"dataframe\">\n  <thead>\n    <tr style=\"text-align: right;\">\n      <th></th>\n      <th>진료년도</th>\n      <th>상별구분</th>\n      <th>시도</th>\n      <th>시군구</th>\n      <th>성별</th>\n      <th>연령구분</th>\n      <th>환자수</th>\n      <th>입내원일수</th>\n      <th>요양급여비용</th>\n      <th>age_sum</th>\n    </tr>\n  </thead>\n  <tbody>\n    <tr>\n      <th>0</th>\n      <td>2018</td>\n      <td>우울증</td>\n      <td>서울</td>\n      <td>강남구</td>\n      <td>남</td>\n      <td>0~9세</td>\n      <td>17</td>\n      <td>143</td>\n      <td>6089540</td>\n      <td>580.0</td>\n    </tr>\n    <tr>\n      <th>1</th>\n      <td>2018</td>\n      <td>우울증</td>\n      <td>서울</td>\n      <td>강남구</td>\n      <td>남</td>\n      <td>10~19세</td>\n      <td>563</td>\n      <td>5125</td>\n      <td>341371930</td>\n      <td>580.0</td>\n    </tr>\n    <tr>\n      <th>2</th>\n      <td>2018</td>\n      <td>우울증</td>\n      <td>서울</td>\n      <td>강남구</td>\n      <td>남</td>\n      <td>20~29세</td>\n      <td>1555</td>\n      <td>11045</td>\n      <td>733848570</td>\n      <td>5173.0</td>\n    </tr>\n    <tr>\n      <th>3</th>\n      <td>2018</td>\n      <td>우울증</td>\n      <td>서울</td>\n      <td>강남구</td>\n      <td>남</td>\n      <td>30~39세</td>\n      <td>1372</td>\n      <td>8814</td>\n      <td>566378520</td>\n      <td>5173.0</td>\n    </tr>\n    <tr>\n      <th>4</th>\n      <td>2018</td>\n      <td>우울증</td>\n      <td>서울</td>\n      <td>강남구</td>\n      <td>남</td>\n      <td>40~49세</td>\n      <td>1200</td>\n      <td>7944</td>\n      <td>472023980</td>\n      <td>5173.0</td>\n    </tr>\n  </tbody>\n</table>\n</div>"
     },
     "execution_count": 67,
     "metadata": {},
     "output_type": "execute_result"
    }
   ],
   "source": [
    "for i in range(0,len(df2),11) :\n",
    "    arr = df2.iloc[i:i+2]\n",
    "    age_sum = arr.iloc[:,6].sum()\n",
    "    df2.loc[i:i+2, 'age_sum'] = int(age_sum)\n",
    "    \n",
    "    \n",
    "for i in range(2,len(df2),11) :\n",
    "    arr = df2.iloc[i:i+4]\n",
    "    age_sum = arr.iloc[:,6].sum()\n",
    "    df2.loc[i:i+4, 'age_sum'] = int(age_sum)\n",
    "    \n",
    "for i in range(6,len(df2),11) :\n",
    "    arr = df2.iloc[i:i+4]\n",
    "    age_sum = arr.iloc[:,6].sum()\n",
    "    df2.loc[i:i+4, 'age_sum'] = int(age_sum)\n",
    "\n",
    "df2.head()\n"
   ],
   "metadata": {
    "collapsed": false,
    "ExecuteTime": {
     "end_time": "2024-01-27T16:26:16.613148Z",
     "start_time": "2024-01-27T16:26:16.609548Z"
    }
   },
   "id": "7ddf0f5b914a3898",
   "execution_count": 67
  },
  {
   "cell_type": "code",
   "outputs": [
    {
     "name": "stdout",
     "output_type": "stream",
     "text": [
      "       진료년도 상별구분  시도  시군구 성별     연령구분   환자수  입내원일수     요양급여비용  age_sum\n",
      "0      2018  우울증  서울  강남구  남     0~9세    17    143    6089540    580.0\n",
      "1      2018  우울증  서울  강남구  남   10~19세   563   5125  341371930    580.0\n",
      "2      2018  우울증  서울  강남구  남   20~29세  1555  11045  733848570   5173.0\n",
      "3      2018  우울증  서울  강남구  남   30~39세  1372   8814  566378520   5173.0\n",
      "4      2018  우울증  서울  강남구  남   40~49세  1200   7944  472023980   5173.0\n",
      "...     ...  ...  ..  ... ..      ...   ...    ...        ...      ...\n",
      "27495  2022  우울증  세종  세종시  여   60~69세   522   3240  176751500    945.0\n",
      "27496  2022  우울증  세종  세종시  여   70~79세   292   1959   95748080    945.0\n",
      "27497  2022  우울증  세종  세종시  여   80~89세   131    743   32449070    945.0\n",
      "27498  2022  우울증  세종  세종시  여   90~99세     0      0          0    945.0\n",
      "27499  2022  우울증  세종  세종시  여  100세 이상     0      0          0    945.0\n",
      "\n",
      "[27500 rows x 10 columns]\n"
     ]
    }
   ],
   "source": [
    "print(df2)"
   ],
   "metadata": {
    "collapsed": false,
    "ExecuteTime": {
     "end_time": "2024-01-27T16:26:48.814345Z",
     "start_time": "2024-01-27T16:26:48.806561Z"
    }
   },
   "id": "41c1243817dbd482",
   "execution_count": 68
  },
  {
   "cell_type": "code",
   "outputs": [],
   "source": [
    "df2.to_csv(\"uulData_update.csv\", encoding=\"cp949\", index=False)"
   ],
   "metadata": {
    "collapsed": false,
    "ExecuteTime": {
     "end_time": "2024-01-27T16:27:01.379166Z",
     "start_time": "2024-01-27T16:27:01.303271Z"
    }
   },
   "id": "c22d7233ea3f3015",
   "execution_count": 69
  },
  {
   "cell_type": "code",
   "outputs": [
    {
     "data": {
      "text/plain": "   진료년도 상별구분  시도  시군구 성별    연령구분   환자수  입내원일수     요양급여비용  age_sum\n0  2018  우울증  서울  강남구  남    0~9세    17    143    6089540    580.0\n1  2018  우울증  서울  강남구  남  10~19세   563   5125  341371930    580.0\n2  2018  우울증  서울  강남구  남  20~29세  1555  11045  733848570   5173.0\n3  2018  우울증  서울  강남구  남  30~39세  1372   8814  566378520   5173.0\n4  2018  우울증  서울  강남구  남  40~49세  1200   7944  472023980   5173.0",
      "text/html": "<div>\n<style scoped>\n    .dataframe tbody tr th:only-of-type {\n        vertical-align: middle;\n    }\n\n    .dataframe tbody tr th {\n        vertical-align: top;\n    }\n\n    .dataframe thead th {\n        text-align: right;\n    }\n</style>\n<table border=\"1\" class=\"dataframe\">\n  <thead>\n    <tr style=\"text-align: right;\">\n      <th></th>\n      <th>진료년도</th>\n      <th>상별구분</th>\n      <th>시도</th>\n      <th>시군구</th>\n      <th>성별</th>\n      <th>연령구분</th>\n      <th>환자수</th>\n      <th>입내원일수</th>\n      <th>요양급여비용</th>\n      <th>age_sum</th>\n    </tr>\n  </thead>\n  <tbody>\n    <tr>\n      <th>0</th>\n      <td>2018</td>\n      <td>우울증</td>\n      <td>서울</td>\n      <td>강남구</td>\n      <td>남</td>\n      <td>0~9세</td>\n      <td>17</td>\n      <td>143</td>\n      <td>6089540</td>\n      <td>580.0</td>\n    </tr>\n    <tr>\n      <th>1</th>\n      <td>2018</td>\n      <td>우울증</td>\n      <td>서울</td>\n      <td>강남구</td>\n      <td>남</td>\n      <td>10~19세</td>\n      <td>563</td>\n      <td>5125</td>\n      <td>341371930</td>\n      <td>580.0</td>\n    </tr>\n    <tr>\n      <th>2</th>\n      <td>2018</td>\n      <td>우울증</td>\n      <td>서울</td>\n      <td>강남구</td>\n      <td>남</td>\n      <td>20~29세</td>\n      <td>1555</td>\n      <td>11045</td>\n      <td>733848570</td>\n      <td>5173.0</td>\n    </tr>\n    <tr>\n      <th>3</th>\n      <td>2018</td>\n      <td>우울증</td>\n      <td>서울</td>\n      <td>강남구</td>\n      <td>남</td>\n      <td>30~39세</td>\n      <td>1372</td>\n      <td>8814</td>\n      <td>566378520</td>\n      <td>5173.0</td>\n    </tr>\n    <tr>\n      <th>4</th>\n      <td>2018</td>\n      <td>우울증</td>\n      <td>서울</td>\n      <td>강남구</td>\n      <td>남</td>\n      <td>40~49세</td>\n      <td>1200</td>\n      <td>7944</td>\n      <td>472023980</td>\n      <td>5173.0</td>\n    </tr>\n  </tbody>\n</table>\n</div>"
     },
     "execution_count": 125,
     "metadata": {},
     "output_type": "execute_result"
    }
   ],
   "source": [
    "now_df = pd.read_csv(\"uulData_update.csv\",encoding = \"cp949\")\n",
    "\n",
    "now_df.head()"
   ],
   "metadata": {
    "collapsed": false,
    "ExecuteTime": {
     "end_time": "2024-01-27T17:17:06.941818Z",
     "start_time": "2024-01-27T17:17:06.901172Z"
    }
   },
   "id": "63f16c2117584839",
   "execution_count": 125
  },
  {
   "cell_type": "code",
   "outputs": [
    {
     "name": "stdout",
     "output_type": "stream",
     "text": [
      "27500\n",
      "   진료년도 상별구분  시도  시군구 성별\n",
      "0  2018  우울증  서울  강남구  남\n",
      "   age_sum\n",
      "0    580.0\n",
      "   age_sum\n",
      "3   5173.0\n",
      "   age_sum\n",
      "7   1631.0\n"
     ]
    }
   ],
   "source": [
    "arr = set(now_df['시군구'])\n",
    "\n",
    "print(len(now_df))\n",
    "\n",
    "# new_row = pd.DataFrame(columns=['진료년도','상별구분','시도','시군구','성별','0~19','20~59','60~'])\n",
    "# new_row[['진료년도','상별구분','시도','시군구','성별']] = now_df.iloc[0:1,0:5]\n",
    "# new_row['0~19'] = now_df.iloc[0:1,9:10]\n",
    "# new_row['20~59'] = now_df.iloc[3:4,9:10]\n",
    "# new_row['60~'] = now_df.iloc[7:8,9:10]\n",
    "# print(new_row)\n",
    "#\n",
    "print(now_df.iloc[0:1,0:5])\n",
    "print(now_df.iloc[0:1,9:10])\n",
    "print(now_df.iloc[3:4,9:10])\n",
    "print(now_df.iloc[7:8,9:10])"
   ],
   "metadata": {
    "collapsed": false,
    "ExecuteTime": {
     "end_time": "2024-01-27T17:17:10.299987Z",
     "start_time": "2024-01-27T17:17:10.294138Z"
    }
   },
   "id": "c88e02116e491e5f",
   "execution_count": 126
  },
  {
   "cell_type": "code",
   "outputs": [],
   "source": [
    "new_df = pd.DataFrame(columns=['진료년도','상별구분','시도','시군구','성별','0~19','20~59','60~'])\n",
    "\n",
    "for i in range(0,len(now_df),11) :\n",
    "    new_row = pd.DataFrame(columns=['진료년도','상별구분','시도','시군구','성별','0~19','20~59','60~'])\n",
    "    new_row[['진료년도','상별구분','시도','시군구','성별']] = now_df.iloc[i:i+1,0:5]\n",
    "    new_row['0~19'] = now_df.iloc[i+1,9]\n",
    "    new_row['20~59'] = now_df.iloc[i+3,9]\n",
    "    new_row['60~'] = now_df.iloc[i+8,9]\n",
    "    new_df = pd.concat([new_df,new_row],ignore_index=True)\n",
    "    \n",
    "new_df.to_csv(\"update_uul_location.csv\",encoding=\"cp949\")\n",
    "#v1"
   ],
   "metadata": {
    "collapsed": false,
    "ExecuteTime": {
     "end_time": "2024-01-27T17:21:28.800468Z",
     "start_time": "2024-01-27T17:21:26.013180Z"
    }
   },
   "id": "3716182444cbc07d",
   "execution_count": 129
  },
  {
   "cell_type": "code",
   "outputs": [
    {
     "ename": "NameError",
     "evalue": "name 'df' is not defined",
     "output_type": "error",
     "traceback": [
      "\u001B[0;31m---------------------------------------------------------------------------\u001B[0m",
      "\u001B[0;31mNameError\u001B[0m                                 Traceback (most recent call last)",
      "Cell \u001B[0;32mIn[1], line 1\u001B[0m\n\u001B[0;32m----> 1\u001B[0m \u001B[43mdf\u001B[49m\u001B[38;5;241m.\u001B[39mhead()\n",
      "\u001B[0;31mNameError\u001B[0m: name 'df' is not defined"
     ]
    }
   ],
   "source": [
    "df.head()"
   ],
   "metadata": {
    "collapsed": false,
    "ExecuteTime": {
     "end_time": "2024-01-30T16:39:00.774995Z",
     "start_time": "2024-01-30T16:39:00.466636Z"
    }
   },
   "id": "6c69544239b785fa",
   "execution_count": 1
  },
  {
   "cell_type": "code",
   "outputs": [],
   "source": [],
   "metadata": {
    "collapsed": false
   },
   "id": "702e07c133663f1"
  }
 ],
 "metadata": {
  "kernelspec": {
   "display_name": "Python 3",
   "language": "python",
   "name": "python3"
  },
  "language_info": {
   "codemirror_mode": {
    "name": "ipython",
    "version": 2
   },
   "file_extension": ".py",
   "mimetype": "text/x-python",
   "name": "python",
   "nbconvert_exporter": "python",
   "pygments_lexer": "ipython2",
   "version": "2.7.6"
  }
 },
 "nbformat": 4,
 "nbformat_minor": 5
}
